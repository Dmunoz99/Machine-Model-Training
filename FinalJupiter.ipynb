{
 "cells": [
  {
   "cell_type": "code",
   "execution_count": 3,
   "id": "a3fddfaa",
   "metadata": {},
   "outputs": [
    {
     "name": "stdout",
     "output_type": "stream",
     "text": [
      "Requirement already satisfied: scikit-learn in c:\\users\\diego\\anaconda3\\lib\\site-packages (1.2.1)\n",
      "Requirement already satisfied: joblib>=1.1.1 in c:\\users\\diego\\anaconda3\\lib\\site-packages (from scikit-learn) (1.1.1)\n",
      "Requirement already satisfied: numpy>=1.17.3 in c:\\users\\diego\\anaconda3\\lib\\site-packages (from scikit-learn) (1.23.5)\n",
      "Requirement already satisfied: threadpoolctl>=2.0.0 in c:\\users\\diego\\anaconda3\\lib\\site-packages (from scikit-learn) (2.2.0)\n",
      "Requirement already satisfied: scipy>=1.3.2 in c:\\users\\diego\\anaconda3\\lib\\site-packages (from scikit-learn) (1.10.0)\n",
      "Requirement already satisfied: tensorflow in c:\\users\\diego\\anaconda3\\lib\\site-packages (2.16.1)\n",
      "Requirement already satisfied: tensorflow-intel==2.16.1 in c:\\users\\diego\\anaconda3\\lib\\site-packages (from tensorflow) (2.16.1)\n",
      "Requirement already satisfied: termcolor>=1.1.0 in c:\\users\\diego\\anaconda3\\lib\\site-packages (from tensorflow-intel==2.16.1->tensorflow) (2.4.0)\n",
      "Requirement already satisfied: packaging in c:\\users\\diego\\anaconda3\\lib\\site-packages (from tensorflow-intel==2.16.1->tensorflow) (22.0)\n",
      "Requirement already satisfied: ml-dtypes~=0.3.1 in c:\\users\\diego\\anaconda3\\lib\\site-packages (from tensorflow-intel==2.16.1->tensorflow) (0.3.2)\n",
      "Requirement already satisfied: requests<3,>=2.21.0 in c:\\users\\diego\\anaconda3\\lib\\site-packages (from tensorflow-intel==2.16.1->tensorflow) (2.28.1)\n",
      "Requirement already satisfied: protobuf!=4.21.0,!=4.21.1,!=4.21.2,!=4.21.3,!=4.21.4,!=4.21.5,<5.0.0dev,>=3.20.3 in c:\\users\\diego\\anaconda3\\lib\\site-packages (from tensorflow-intel==2.16.1->tensorflow) (4.23.3)\n",
      "Requirement already satisfied: typing-extensions>=3.6.6 in c:\\users\\diego\\anaconda3\\lib\\site-packages (from tensorflow-intel==2.16.1->tensorflow) (4.4.0)\n",
      "Requirement already satisfied: numpy<2.0.0,>=1.23.5 in c:\\users\\diego\\anaconda3\\lib\\site-packages (from tensorflow-intel==2.16.1->tensorflow) (1.23.5)\n",
      "Requirement already satisfied: libclang>=13.0.0 in c:\\users\\diego\\anaconda3\\lib\\site-packages (from tensorflow-intel==2.16.1->tensorflow) (18.1.1)\n",
      "Requirement already satisfied: h5py>=3.10.0 in c:\\users\\diego\\anaconda3\\lib\\site-packages (from tensorflow-intel==2.16.1->tensorflow) (3.11.0)\n",
      "Requirement already satisfied: grpcio<2.0,>=1.24.3 in c:\\users\\diego\\anaconda3\\lib\\site-packages (from tensorflow-intel==2.16.1->tensorflow) (1.54.2)\n",
      "Requirement already satisfied: tensorflow-io-gcs-filesystem>=0.23.1 in c:\\users\\diego\\anaconda3\\lib\\site-packages (from tensorflow-intel==2.16.1->tensorflow) (0.31.0)\n",
      "Requirement already satisfied: keras>=3.0.0 in c:\\users\\diego\\anaconda3\\lib\\site-packages (from tensorflow-intel==2.16.1->tensorflow) (3.3.3)\n",
      "Requirement already satisfied: tensorboard<2.17,>=2.16 in c:\\users\\diego\\anaconda3\\lib\\site-packages (from tensorflow-intel==2.16.1->tensorflow) (2.16.2)\n",
      "Requirement already satisfied: opt-einsum>=2.3.2 in c:\\users\\diego\\anaconda3\\lib\\site-packages (from tensorflow-intel==2.16.1->tensorflow) (3.3.0)\n",
      "Requirement already satisfied: flatbuffers>=23.5.26 in c:\\users\\diego\\anaconda3\\lib\\site-packages (from tensorflow-intel==2.16.1->tensorflow) (24.3.25)\n",
      "Requirement already satisfied: absl-py>=1.0.0 in c:\\users\\diego\\anaconda3\\lib\\site-packages (from tensorflow-intel==2.16.1->tensorflow) (1.4.0)\n",
      "Requirement already satisfied: six>=1.12.0 in c:\\users\\diego\\anaconda3\\lib\\site-packages (from tensorflow-intel==2.16.1->tensorflow) (1.16.0)\n",
      "Requirement already satisfied: gast!=0.5.0,!=0.5.1,!=0.5.2,>=0.2.1 in c:\\users\\diego\\anaconda3\\lib\\site-packages (from tensorflow-intel==2.16.1->tensorflow) (0.5.4)\n",
      "Requirement already satisfied: wrapt>=1.11.0 in c:\\users\\diego\\anaconda3\\lib\\site-packages (from tensorflow-intel==2.16.1->tensorflow) (1.14.1)\n",
      "Requirement already satisfied: google-pasta>=0.1.1 in c:\\users\\diego\\anaconda3\\lib\\site-packages (from tensorflow-intel==2.16.1->tensorflow) (0.2.0)\n",
      "Requirement already satisfied: astunparse>=1.6.0 in c:\\users\\diego\\anaconda3\\lib\\site-packages (from tensorflow-intel==2.16.1->tensorflow) (1.6.3)\n",
      "Requirement already satisfied: setuptools in c:\\users\\diego\\anaconda3\\lib\\site-packages (from tensorflow-intel==2.16.1->tensorflow) (65.6.3)\n",
      "Requirement already satisfied: wheel<1.0,>=0.23.0 in c:\\users\\diego\\anaconda3\\lib\\site-packages (from astunparse>=1.6.0->tensorflow-intel==2.16.1->tensorflow) (0.38.4)\n",
      "Requirement already satisfied: namex in c:\\users\\diego\\anaconda3\\lib\\site-packages (from keras>=3.0.0->tensorflow-intel==2.16.1->tensorflow) (0.0.8)\n",
      "Requirement already satisfied: optree in c:\\users\\diego\\anaconda3\\lib\\site-packages (from keras>=3.0.0->tensorflow-intel==2.16.1->tensorflow) (0.11.0)\n",
      "Requirement already satisfied: rich in c:\\users\\diego\\anaconda3\\lib\\site-packages (from keras>=3.0.0->tensorflow-intel==2.16.1->tensorflow) (13.7.1)\n",
      "Requirement already satisfied: certifi>=2017.4.17 in c:\\users\\diego\\anaconda3\\lib\\site-packages (from requests<3,>=2.21.0->tensorflow-intel==2.16.1->tensorflow) (2022.12.7)\n",
      "Requirement already satisfied: urllib3<1.27,>=1.21.1 in c:\\users\\diego\\anaconda3\\lib\\site-packages (from requests<3,>=2.21.0->tensorflow-intel==2.16.1->tensorflow) (1.26.14)\n",
      "Requirement already satisfied: idna<4,>=2.5 in c:\\users\\diego\\anaconda3\\lib\\site-packages (from requests<3,>=2.21.0->tensorflow-intel==2.16.1->tensorflow) (3.4)\n",
      "Requirement already satisfied: charset-normalizer<3,>=2 in c:\\users\\diego\\anaconda3\\lib\\site-packages (from requests<3,>=2.21.0->tensorflow-intel==2.16.1->tensorflow) (2.0.4)\n",
      "Requirement already satisfied: tensorboard-data-server<0.8.0,>=0.7.0 in c:\\users\\diego\\anaconda3\\lib\\site-packages (from tensorboard<2.17,>=2.16->tensorflow-intel==2.16.1->tensorflow) (0.7.1)\n",
      "Requirement already satisfied: werkzeug>=1.0.1 in c:\\users\\diego\\anaconda3\\lib\\site-packages (from tensorboard<2.17,>=2.16->tensorflow-intel==2.16.1->tensorflow) (2.2.2)\n",
      "Requirement already satisfied: markdown>=2.6.8 in c:\\users\\diego\\anaconda3\\lib\\site-packages (from tensorboard<2.17,>=2.16->tensorflow-intel==2.16.1->tensorflow) (3.3.7)\n",
      "Requirement already satisfied: MarkupSafe>=2.1.1 in c:\\users\\diego\\anaconda3\\lib\\site-packages (from werkzeug>=1.0.1->tensorboard<2.17,>=2.16->tensorflow-intel==2.16.1->tensorflow) (2.1.1)\n",
      "Requirement already satisfied: markdown-it-py>=2.2.0 in c:\\users\\diego\\anaconda3\\lib\\site-packages (from rich->keras>=3.0.0->tensorflow-intel==2.16.1->tensorflow) (3.0.0)\n",
      "Requirement already satisfied: pygments<3.0.0,>=2.13.0 in c:\\users\\diego\\anaconda3\\lib\\site-packages (from rich->keras>=3.0.0->tensorflow-intel==2.16.1->tensorflow) (2.15.1)\n",
      "Requirement already satisfied: mdurl~=0.1 in c:\\users\\diego\\anaconda3\\lib\\site-packages (from markdown-it-py>=2.2.0->rich->keras>=3.0.0->tensorflow-intel==2.16.1->tensorflow) (0.1.2)\n",
      "Collecting shap\n",
      "  Downloading shap-0.45.0-cp310-cp310-win_amd64.whl (453 kB)\n",
      "     ------------------------------------- 453.1/453.1 kB 13.8 MB/s eta 0:00:00\n",
      "Requirement already satisfied: scipy in c:\\users\\diego\\anaconda3\\lib\\site-packages (from shap) (1.10.0)\n",
      "Requirement already satisfied: cloudpickle in c:\\users\\diego\\anaconda3\\lib\\site-packages (from shap) (2.0.0)\n",
      "Requirement already satisfied: tqdm>=4.27.0 in c:\\users\\diego\\anaconda3\\lib\\site-packages (from shap) (4.64.1)\n",
      "Requirement already satisfied: numba in c:\\users\\diego\\anaconda3\\lib\\site-packages (from shap) (0.56.4)\n",
      "Requirement already satisfied: pandas in c:\\users\\diego\\anaconda3\\lib\\site-packages (from shap) (1.5.3)\n",
      "Requirement already satisfied: packaging>20.9 in c:\\users\\diego\\anaconda3\\lib\\site-packages (from shap) (22.0)\n",
      "Requirement already satisfied: numpy in c:\\users\\diego\\anaconda3\\lib\\site-packages (from shap) (1.23.5)\n",
      "Requirement already satisfied: scikit-learn in c:\\users\\diego\\anaconda3\\lib\\site-packages (from shap) (1.2.1)\n",
      "Collecting slicer==0.0.7\n",
      "  Downloading slicer-0.0.7-py3-none-any.whl (14 kB)\n",
      "Requirement already satisfied: colorama in c:\\users\\diego\\anaconda3\\lib\\site-packages (from tqdm>=4.27.0->shap) (0.4.6)\n",
      "Requirement already satisfied: setuptools in c:\\users\\diego\\anaconda3\\lib\\site-packages (from numba->shap) (65.6.3)\n",
      "Requirement already satisfied: llvmlite<0.40,>=0.39.0dev0 in c:\\users\\diego\\anaconda3\\lib\\site-packages (from numba->shap) (0.39.1)\n",
      "Requirement already satisfied: python-dateutil>=2.8.1 in c:\\users\\diego\\anaconda3\\lib\\site-packages (from pandas->shap) (2.8.2)\n",
      "Requirement already satisfied: pytz>=2020.1 in c:\\users\\diego\\anaconda3\\lib\\site-packages (from pandas->shap) (2022.7)\n",
      "Requirement already satisfied: threadpoolctl>=2.0.0 in c:\\users\\diego\\anaconda3\\lib\\site-packages (from scikit-learn->shap) (2.2.0)\n",
      "Requirement already satisfied: joblib>=1.1.1 in c:\\users\\diego\\anaconda3\\lib\\site-packages (from scikit-learn->shap) (1.1.1)\n",
      "Requirement already satisfied: six>=1.5 in c:\\users\\diego\\anaconda3\\lib\\site-packages (from python-dateutil>=2.8.1->pandas->shap) (1.16.0)\n",
      "Installing collected packages: slicer, shap\n",
      "Successfully installed shap-0.45.0 slicer-0.0.7\n"
     ]
    }
   ],
   "source": [
    "!pip install scikit-learn\n",
    "!pip install tensorflow\n",
    "!pip install shap"
   ]
  },
  {
   "cell_type": "code",
   "execution_count": 4,
   "id": "6357342b",
   "metadata": {},
   "outputs": [],
   "source": [
    "import pandas as pd\n",
    "from sklearn.model_selection import train_test_split\n",
    "from sklearn.linear_model import LinearRegression\n",
    "from sklearn.tree import DecisionTreeRegressor\n",
    "from sklearn.metrics import accuracy_score, precision_score, recall_score, f1_score, mean_absolute_error, mean_squared_error\n",
    "import tensorflow as tf\n",
    "from tensorflow.keras.models import Sequential\n",
    "from tensorflow.keras.layers import Dense\n",
    "import shap\n",
    "\n",
    "# Cargar el dataframe\n",
    "df = pd.read_csv('FinalDatasett.csv')\n",
    "\n",
    "# Definir características de entrada (X) y la variable objetivo (y)\n",
    "X = df[['año', 'mes', 'dia', 'hora']]\n",
    "y = df['consumo']\n",
    "\n",
    "# Dividir los datos en conjunto de entrenamiento y conjunto de prueba\n",
    "X_train, X_test, y_train, y_test = train_test_split(X, y, test_size=0.2, random_state=42)\n"
   ]
  },
  {
   "cell_type": "code",
   "execution_count": 5,
   "id": "b0607a9b",
   "metadata": {},
   "outputs": [],
   "source": [
    "# Entrenar modelo de regresión lineal\n",
    "linear_reg_model = LinearRegression()\n",
    "linear_reg_model.fit(X_train, y_train)\n",
    "\n",
    "# Predecir en el conjunto de prueba\n",
    "y_pred_linear = linear_reg_model.predict(X_test)\n",
    "\n",
    "# Calcular métricas\n",
    "mae_linear = mean_absolute_error(y_test, y_pred_linear)\n",
    "mse_linear = mean_squared_error(y_test, y_pred_linear)\n"
   ]
  },
  {
   "cell_type": "code",
   "execution_count": 6,
   "id": "47c5b338",
   "metadata": {},
   "outputs": [],
   "source": [
    "# Entrenar modelo de árbol de decisión\n",
    "tree_model = DecisionTreeRegressor()\n",
    "tree_model.fit(X_train, y_train)\n",
    "\n",
    "# Predecir en el conjunto de prueba\n",
    "y_pred_tree = tree_model.predict(X_test)\n",
    "\n",
    "# Calcular métricas\n",
    "mae_tree = mean_absolute_error(y_test, y_pred_tree)\n",
    "mse_tree = mean_squared_error(y_test, y_pred_tree)\n"
   ]
  },
  {
   "cell_type": "code",
   "execution_count": 17,
   "id": "d0818f7b",
   "metadata": {},
   "outputs": [
    {
     "name": "stdout",
     "output_type": "stream",
     "text": [
      "Epoch 1/50\n"
     ]
    },
    {
     "name": "stderr",
     "output_type": "stream",
     "text": [
      "C:\\Users\\diego\\anaconda3\\lib\\site-packages\\keras\\src\\layers\\core\\dense.py:87: UserWarning: Do not pass an `input_shape`/`input_dim` argument to a layer. When using Sequential models, prefer using an `Input(shape)` object as the first layer in the model instead.\n",
      "  super().__init__(activity_regularizer=activity_regularizer, **kwargs)\n"
     ]
    },
    {
     "name": "stdout",
     "output_type": "stream",
     "text": [
      "\u001b[1m56075/56075\u001b[0m \u001b[32m━━━━━━━━━━━━━━━━━━━━\u001b[0m\u001b[37m\u001b[0m \u001b[1m41s\u001b[0m 710us/step - loss: 5577.6528 - val_loss: 5425.5083\n",
      "Epoch 2/50\n",
      "\u001b[1m56075/56075\u001b[0m \u001b[32m━━━━━━━━━━━━━━━━━━━━\u001b[0m\u001b[37m\u001b[0m \u001b[1m38s\u001b[0m 678us/step - loss: 5465.5229 - val_loss: 5426.2612\n",
      "Epoch 3/50\n",
      "\u001b[1m56075/56075\u001b[0m \u001b[32m━━━━━━━━━━━━━━━━━━━━\u001b[0m\u001b[37m\u001b[0m \u001b[1m45s\u001b[0m 809us/step - loss: 5473.8325 - val_loss: 5415.3354\n",
      "Epoch 4/50\n",
      "\u001b[1m56075/56075\u001b[0m \u001b[32m━━━━━━━━━━━━━━━━━━━━\u001b[0m\u001b[37m\u001b[0m \u001b[1m41s\u001b[0m 723us/step - loss: 5471.5581 - val_loss: 5423.7588\n",
      "Epoch 5/50\n",
      "\u001b[1m56075/56075\u001b[0m \u001b[32m━━━━━━━━━━━━━━━━━━━━\u001b[0m\u001b[37m\u001b[0m \u001b[1m41s\u001b[0m 735us/step - loss: 5461.2734 - val_loss: 5414.7847\n",
      "Epoch 6/50\n",
      "\u001b[1m56075/56075\u001b[0m \u001b[32m━━━━━━━━━━━━━━━━━━━━\u001b[0m\u001b[37m\u001b[0m \u001b[1m47s\u001b[0m 831us/step - loss: 5482.0322 - val_loss: 5415.9951\n",
      "Epoch 7/50\n",
      "\u001b[1m56075/56075\u001b[0m \u001b[32m━━━━━━━━━━━━━━━━━━━━\u001b[0m\u001b[37m\u001b[0m \u001b[1m56s\u001b[0m 1ms/step - loss: 5469.1680 - val_loss: 5417.0649\n",
      "Epoch 8/50\n",
      "\u001b[1m56075/56075\u001b[0m \u001b[32m━━━━━━━━━━━━━━━━━━━━\u001b[0m\u001b[37m\u001b[0m \u001b[1m49s\u001b[0m 877us/step - loss: 5477.9619 - val_loss: 5423.2847\n",
      "Epoch 9/50\n",
      "\u001b[1m56075/56075\u001b[0m \u001b[32m━━━━━━━━━━━━━━━━━━━━\u001b[0m\u001b[37m\u001b[0m \u001b[1m54s\u001b[0m 955us/step - loss: 5486.4536 - val_loss: 5415.5635\n",
      "Epoch 10/50\n",
      "\u001b[1m56075/56075\u001b[0m \u001b[32m━━━━━━━━━━━━━━━━━━━━\u001b[0m\u001b[37m\u001b[0m \u001b[1m52s\u001b[0m 934us/step - loss: 5484.7974 - val_loss: 5416.3545\n",
      "Epoch 11/50\n",
      "\u001b[1m56075/56075\u001b[0m \u001b[32m━━━━━━━━━━━━━━━━━━━━\u001b[0m\u001b[37m\u001b[0m \u001b[1m50s\u001b[0m 883us/step - loss: 5466.9678 - val_loss: 5417.6138\n",
      "Epoch 12/50\n",
      "\u001b[1m56075/56075\u001b[0m \u001b[32m━━━━━━━━━━━━━━━━━━━━\u001b[0m\u001b[37m\u001b[0m \u001b[1m52s\u001b[0m 928us/step - loss: 5466.9102 - val_loss: 5415.1636\n",
      "Epoch 13/50\n",
      "\u001b[1m56075/56075\u001b[0m \u001b[32m━━━━━━━━━━━━━━━━━━━━\u001b[0m\u001b[37m\u001b[0m \u001b[1m51s\u001b[0m 904us/step - loss: 5472.1733 - val_loss: 5432.2988\n",
      "Epoch 14/50\n",
      "\u001b[1m56075/56075\u001b[0m \u001b[32m━━━━━━━━━━━━━━━━━━━━\u001b[0m\u001b[37m\u001b[0m \u001b[1m49s\u001b[0m 869us/step - loss: 5461.6748 - val_loss: 5419.2607\n",
      "Epoch 15/50\n",
      "\u001b[1m56075/56075\u001b[0m \u001b[32m━━━━━━━━━━━━━━━━━━━━\u001b[0m\u001b[37m\u001b[0m \u001b[1m60s\u001b[0m 1ms/step - loss: 5467.4434 - val_loss: 5425.5117\n",
      "Epoch 16/50\n",
      "\u001b[1m56075/56075\u001b[0m \u001b[32m━━━━━━━━━━━━━━━━━━━━\u001b[0m\u001b[37m\u001b[0m \u001b[1m70s\u001b[0m 1ms/step - loss: 5473.7168 - val_loss: 5415.4961\n",
      "Epoch 17/50\n",
      "\u001b[1m56075/56075\u001b[0m \u001b[32m━━━━━━━━━━━━━━━━━━━━\u001b[0m\u001b[37m\u001b[0m \u001b[1m70s\u001b[0m 1ms/step - loss: 5467.7422 - val_loss: 5415.2124\n",
      "Epoch 18/50\n",
      "\u001b[1m56075/56075\u001b[0m \u001b[32m━━━━━━━━━━━━━━━━━━━━\u001b[0m\u001b[37m\u001b[0m \u001b[1m72s\u001b[0m 1ms/step - loss: 5470.0688 - val_loss: 5415.0195\n",
      "Epoch 19/50\n",
      "\u001b[1m56075/56075\u001b[0m \u001b[32m━━━━━━━━━━━━━━━━━━━━\u001b[0m\u001b[37m\u001b[0m \u001b[1m74s\u001b[0m 1ms/step - loss: 5476.7964 - val_loss: 5416.8320\n",
      "Epoch 20/50\n",
      "\u001b[1m56075/56075\u001b[0m \u001b[32m━━━━━━━━━━━━━━━━━━━━\u001b[0m\u001b[37m\u001b[0m \u001b[1m70s\u001b[0m 1ms/step - loss: 5482.2671 - val_loss: 5427.8950\n",
      "Epoch 21/50\n",
      "\u001b[1m56075/56075\u001b[0m \u001b[32m━━━━━━━━━━━━━━━━━━━━\u001b[0m\u001b[37m\u001b[0m \u001b[1m69s\u001b[0m 1ms/step - loss: 5476.4893 - val_loss: 5416.5688\n",
      "Epoch 22/50\n",
      "\u001b[1m56075/56075\u001b[0m \u001b[32m━━━━━━━━━━━━━━━━━━━━\u001b[0m\u001b[37m\u001b[0m \u001b[1m75s\u001b[0m 1ms/step - loss: 5464.2070 - val_loss: 5421.6865\n",
      "Epoch 23/50\n",
      "\u001b[1m56075/56075\u001b[0m \u001b[32m━━━━━━━━━━━━━━━━━━━━\u001b[0m\u001b[37m\u001b[0m \u001b[1m69s\u001b[0m 1ms/step - loss: 5472.7168 - val_loss: 5422.2856\n",
      "Epoch 24/50\n",
      "\u001b[1m56075/56075\u001b[0m \u001b[32m━━━━━━━━━━━━━━━━━━━━\u001b[0m\u001b[37m\u001b[0m \u001b[1m70s\u001b[0m 1ms/step - loss: 5465.0327 - val_loss: 5414.5879\n",
      "Epoch 25/50\n",
      "\u001b[1m56075/56075\u001b[0m \u001b[32m━━━━━━━━━━━━━━━━━━━━\u001b[0m\u001b[37m\u001b[0m \u001b[1m67s\u001b[0m 1ms/step - loss: 5462.8369 - val_loss: 5422.8008\n",
      "Epoch 26/50\n",
      "\u001b[1m56075/56075\u001b[0m \u001b[32m━━━━━━━━━━━━━━━━━━━━\u001b[0m\u001b[37m\u001b[0m \u001b[1m71s\u001b[0m 1ms/step - loss: 5470.2817 - val_loss: 5414.8521\n",
      "Epoch 27/50\n",
      "\u001b[1m56075/56075\u001b[0m \u001b[32m━━━━━━━━━━━━━━━━━━━━\u001b[0m\u001b[37m\u001b[0m \u001b[1m69s\u001b[0m 1ms/step - loss: 5468.4448 - val_loss: 5415.0996\n",
      "Epoch 28/50\n",
      "\u001b[1m56075/56075\u001b[0m \u001b[32m━━━━━━━━━━━━━━━━━━━━\u001b[0m\u001b[37m\u001b[0m \u001b[1m67s\u001b[0m 1ms/step - loss: 5477.1450 - val_loss: 5419.6313\n",
      "Epoch 29/50\n",
      "\u001b[1m56075/56075\u001b[0m \u001b[32m━━━━━━━━━━━━━━━━━━━━\u001b[0m\u001b[37m\u001b[0m \u001b[1m66s\u001b[0m 1ms/step - loss: 5458.2998 - val_loss: 5414.1465\n",
      "Epoch 30/50\n",
      "\u001b[1m56075/56075\u001b[0m \u001b[32m━━━━━━━━━━━━━━━━━━━━\u001b[0m\u001b[37m\u001b[0m \u001b[1m60s\u001b[0m 1ms/step - loss: 5478.0947 - val_loss: 5413.6646\n",
      "Epoch 31/50\n",
      "\u001b[1m56075/56075\u001b[0m \u001b[32m━━━━━━━━━━━━━━━━━━━━\u001b[0m\u001b[37m\u001b[0m \u001b[1m51s\u001b[0m 908us/step - loss: 5469.0264 - val_loss: 5414.5791\n",
      "Epoch 32/50\n",
      "\u001b[1m56075/56075\u001b[0m \u001b[32m━━━━━━━━━━━━━━━━━━━━\u001b[0m\u001b[37m\u001b[0m \u001b[1m53s\u001b[0m 950us/step - loss: 5455.0054 - val_loss: 5415.2007\n",
      "Epoch 33/50\n",
      "\u001b[1m56075/56075\u001b[0m \u001b[32m━━━━━━━━━━━━━━━━━━━━\u001b[0m\u001b[37m\u001b[0m \u001b[1m53s\u001b[0m 946us/step - loss: 5452.9570 - val_loss: 5416.7476\n",
      "Epoch 34/50\n",
      "\u001b[1m56075/56075\u001b[0m \u001b[32m━━━━━━━━━━━━━━━━━━━━\u001b[0m\u001b[37m\u001b[0m \u001b[1m52s\u001b[0m 923us/step - loss: 5479.4712 - val_loss: 5416.4497\n",
      "Epoch 35/50\n",
      "\u001b[1m56075/56075\u001b[0m \u001b[32m━━━━━━━━━━━━━━━━━━━━\u001b[0m\u001b[37m\u001b[0m \u001b[1m50s\u001b[0m 882us/step - loss: 5464.9961 - val_loss: 5422.1299\n",
      "Epoch 36/50\n",
      "\u001b[1m56075/56075\u001b[0m \u001b[32m━━━━━━━━━━━━━━━━━━━━\u001b[0m\u001b[37m\u001b[0m \u001b[1m50s\u001b[0m 893us/step - loss: 5464.6348 - val_loss: 5421.4233\n",
      "Epoch 37/50\n",
      "\u001b[1m56075/56075\u001b[0m \u001b[32m━━━━━━━━━━━━━━━━━━━━\u001b[0m\u001b[37m\u001b[0m \u001b[1m54s\u001b[0m 956us/step - loss: 5463.9634 - val_loss: 5415.1899\n",
      "Epoch 38/50\n",
      "\u001b[1m56075/56075\u001b[0m \u001b[32m━━━━━━━━━━━━━━━━━━━━\u001b[0m\u001b[37m\u001b[0m \u001b[1m77s\u001b[0m 1ms/step - loss: 5444.0117 - val_loss: 5413.9863\n",
      "Epoch 39/50\n",
      "\u001b[1m56075/56075\u001b[0m \u001b[32m━━━━━━━━━━━━━━━━━━━━\u001b[0m\u001b[37m\u001b[0m \u001b[1m67s\u001b[0m 1ms/step - loss: 5460.4263 - val_loss: 5414.9282\n",
      "Epoch 40/50\n",
      "\u001b[1m56075/56075\u001b[0m \u001b[32m━━━━━━━━━━━━━━━━━━━━\u001b[0m\u001b[37m\u001b[0m \u001b[1m71s\u001b[0m 1ms/step - loss: 5458.3569 - val_loss: 5415.4067\n",
      "Epoch 41/50\n",
      "\u001b[1m56075/56075\u001b[0m \u001b[32m━━━━━━━━━━━━━━━━━━━━\u001b[0m\u001b[37m\u001b[0m \u001b[1m68s\u001b[0m 1ms/step - loss: 5458.6284 - val_loss: 5415.5020\n",
      "Epoch 42/50\n",
      "\u001b[1m56075/56075\u001b[0m \u001b[32m━━━━━━━━━━━━━━━━━━━━\u001b[0m\u001b[37m\u001b[0m \u001b[1m66s\u001b[0m 1ms/step - loss: 5457.5771 - val_loss: 5415.9517\n",
      "Epoch 43/50\n",
      "\u001b[1m56075/56075\u001b[0m \u001b[32m━━━━━━━━━━━━━━━━━━━━\u001b[0m\u001b[37m\u001b[0m \u001b[1m69s\u001b[0m 1ms/step - loss: 5479.2017 - val_loss: 5416.2070\n",
      "Epoch 44/50\n",
      "\u001b[1m56075/56075\u001b[0m \u001b[32m━━━━━━━━━━━━━━━━━━━━\u001b[0m\u001b[37m\u001b[0m \u001b[1m66s\u001b[0m 1ms/step - loss: 5462.5620 - val_loss: 5415.6851\n",
      "Epoch 45/50\n",
      "\u001b[1m56075/56075\u001b[0m \u001b[32m━━━━━━━━━━━━━━━━━━━━\u001b[0m\u001b[37m\u001b[0m \u001b[1m67s\u001b[0m 1ms/step - loss: 5479.3169 - val_loss: 5413.8789\n",
      "Epoch 46/50\n",
      "\u001b[1m56075/56075\u001b[0m \u001b[32m━━━━━━━━━━━━━━━━━━━━\u001b[0m\u001b[37m\u001b[0m \u001b[1m65s\u001b[0m 1ms/step - loss: 5463.7686 - val_loss: 5420.0269\n",
      "Epoch 47/50\n",
      "\u001b[1m56075/56075\u001b[0m \u001b[32m━━━━━━━━━━━━━━━━━━━━\u001b[0m\u001b[37m\u001b[0m \u001b[1m64s\u001b[0m 1ms/step - loss: 5470.9238 - val_loss: 5419.2637\n",
      "Epoch 48/50\n",
      "\u001b[1m56075/56075\u001b[0m \u001b[32m━━━━━━━━━━━━━━━━━━━━\u001b[0m\u001b[37m\u001b[0m \u001b[1m64s\u001b[0m 1ms/step - loss: 5468.9980 - val_loss: 5415.1519\n",
      "Epoch 49/50\n",
      "\u001b[1m56075/56075\u001b[0m \u001b[32m━━━━━━━━━━━━━━━━━━━━\u001b[0m\u001b[37m\u001b[0m \u001b[1m66s\u001b[0m 1ms/step - loss: 5475.3247 - val_loss: 5413.5015\n",
      "Epoch 50/50\n",
      "\u001b[1m56075/56075\u001b[0m \u001b[32m━━━━━━━━━━━━━━━━━━━━\u001b[0m\u001b[37m\u001b[0m \u001b[1m64s\u001b[0m 1ms/step - loss: 5482.3462 - val_loss: 5422.0874\n",
      "\u001b[1m14019/14019\u001b[0m \u001b[32m━━━━━━━━━━━━━━━━━━━━\u001b[0m\u001b[37m\u001b[0m \u001b[1m11s\u001b[0m 764us/step\n"
     ]
    }
   ],
   "source": [
    "# Construir modelo RNN\n",
    "rnn_model = Sequential([\n",
    "    Dense(64, activation='relu', input_shape=(X_train.shape[1],)),\n",
    "    Dense(64, activation='relu'),\n",
    "    Dense(1)\n",
    "])\n",
    "\n",
    "# Compilar el modelo\n",
    "rnn_model.compile(optimizer='adam', loss='mse')\n",
    "\n",
    "# Entrenar el modelo\n",
    "history = rnn_model.fit(X_train, y_train, epochs=50, validation_data=(X_test, y_test))\n",
    "\n",
    "# Predecir en el conjunto de prueba\n",
    "y_pred_rnn = rnn_model.predict(X_test)\n",
    "\n",
    "# Calcular métricas\n",
    "mae_rnn = mean_absolute_error(y_test, y_pred_rnn)\n",
    "mse_rnn = mean_squared_error(y_test, y_pred_rnn)\n"
   ]
  },
  {
   "cell_type": "code",
   "execution_count": 18,
   "id": "94d8c40c",
   "metadata": {},
   "outputs": [
    {
     "name": "stdout",
     "output_type": "stream",
     "text": [
      "Resultados del entrenamiento:\n",
      "              Modelo        MAE          MSE\n",
      "0   Regresión Lineal  55.862879  5428.716912\n",
      "1  Árbol de Decisión  57.127830  5693.239360\n",
      "2                RNN  55.931887  5422.087197\n"
     ]
    }
   ],
   "source": [
    "# Crear DataFrame con los resultados del entrenamiento\n",
    "results_df = pd.DataFrame({\n",
    "    'Modelo': ['Regresión Lineal', 'Árbol de Decisión', 'RNN'],\n",
    "    'MAE': [mae_linear, mae_tree, mae_rnn],\n",
    "    'MSE': [mse_linear, mse_tree, mse_rnn]\n",
    "})\n",
    "\n",
    "# Mostrar resultados\n",
    "print(\"Resultados del entrenamiento:\")\n",
    "print(results_df)"
   ]
  },
  {
   "cell_type": "code",
   "execution_count": 19,
   "id": "1b1f45da",
   "metadata": {},
   "outputs": [
    {
     "name": "stdout",
     "output_type": "stream",
     "text": [
      "\u001b[1m1438/1438\u001b[0m \u001b[32m━━━━━━━━━━━━━━━━━━━━\u001b[0m\u001b[37m\u001b[0m \u001b[1m1s\u001b[0m 603us/step\n",
      "\u001b[1m1798/1798\u001b[0m \u001b[32m━━━━━━━━━━━━━━━━━━━━\u001b[0m\u001b[37m\u001b[0m \u001b[1m1s\u001b[0m 710us/step\n",
      "\u001b[1m1438/1438\u001b[0m \u001b[32m━━━━━━━━━━━━━━━━━━━━\u001b[0m\u001b[37m\u001b[0m \u001b[1m1s\u001b[0m 770us/step\n",
      "\u001b[1m1798/1798\u001b[0m \u001b[32m━━━━━━━━━━━━━━━━━━━━\u001b[0m\u001b[37m\u001b[0m \u001b[1m1s\u001b[0m 731us/step\n",
      "\u001b[1m1438/1438\u001b[0m \u001b[32m━━━━━━━━━━━━━━━━━━━━\u001b[0m\u001b[37m\u001b[0m \u001b[1m1s\u001b[0m 677us/step\n",
      "\u001b[1m3236/3236\u001b[0m \u001b[32m━━━━━━━━━━━━━━━━━━━━\u001b[0m\u001b[37m\u001b[0m \u001b[1m2s\u001b[0m 523us/step\n",
      "\u001b[1m2876/2876\u001b[0m \u001b[32m━━━━━━━━━━━━━━━━━━━━\u001b[0m\u001b[37m\u001b[0m \u001b[1m1s\u001b[0m 510us/step\n",
      "\n",
      "Métricas por subestación y modelo:\n",
      "Regresión Lineal:\n",
      "  Subestación        MAE           MSE\n",
      "0     AJAHUEL  54.052643   3305.618819\n",
      "1        BUIN  67.487480   9180.750295\n",
      "2     LOSALME  24.170630    925.896290\n",
      "3       CHENA  92.963627  14893.724664\n",
      "4     ELSALTO  29.296146   1471.812059\n",
      "5      CNAVIA  46.294804   3359.086331\n",
      "6     FLORIDA  25.114971    991.566139\n",
      "\n",
      "Árbol de Decisión:\n",
      "  Subestación         MAE           MSE\n",
      "0     AJAHUEL   70.478882   5973.190724\n",
      "1        BUIN   92.347146  15146.840579\n",
      "2     LOSALME   31.034734   1556.126639\n",
      "3       CHENA  119.564391  24350.168620\n",
      "4     ELSALTO   27.894703   1403.757111\n",
      "5      CNAVIA   51.493703   4183.600008\n",
      "6     FLORIDA   29.231700   1322.991616\n",
      "\n",
      "RNN:\n",
      "  Subestación        MAE           MSE\n",
      "0     AJAHUEL  54.072466   3285.747045\n",
      "1        BUIN  67.519872   9181.145508\n",
      "2     LOSALME  24.161312    930.036918\n",
      "3       CHENA  92.855069  14897.171958\n",
      "4     ELSALTO  29.251636   1485.610364\n",
      "5      CNAVIA  46.111246   3342.302929\n",
      "6     FLORIDA  25.237941    991.870732\n"
     ]
    }
   ],
   "source": [
    "# Función para calcular métricas por subestación y modelo\n",
    "def calculate_metrics_by_substation(df, model, model_name):\n",
    "    metrics_by_substation = []\n",
    "    for substation in df['sub_estacion'].unique():\n",
    "        sub_df = df[df['sub_estacion'] == substation]\n",
    "        X_sub = sub_df[['año', 'mes', 'dia', 'hora']]\n",
    "        y_sub = sub_df['consumo']\n",
    "        X_sub_train, X_sub_test, y_sub_train, y_sub_test = train_test_split(X_sub, y_sub, test_size=0.2, random_state=42)\n",
    "        \n",
    "        if model_name == 'RNN':\n",
    "            history = model.fit(X_sub_train, y_sub_train, epochs=50, validation_data=(X_sub_test, y_sub_test), verbose=0)\n",
    "            y_sub_pred = model.predict(X_sub_test)\n",
    "        else:\n",
    "            model.fit(X_sub_train, y_sub_train)\n",
    "            y_sub_pred = model.predict(X_sub_test)\n",
    "        \n",
    "        mae_sub = mean_absolute_error(y_sub_test, y_sub_pred)\n",
    "        mse_sub = mean_squared_error(y_sub_test, y_sub_pred)\n",
    "        metrics_by_substation.append({'Subestación': substation, 'MAE': mae_sub, 'MSE': mse_sub})\n",
    "    \n",
    "    return pd.DataFrame(metrics_by_substation)\n",
    "\n",
    "# Calcular métricas por subestación y modelo\n",
    "metrics_linear_by_substation = calculate_metrics_by_substation(df, linear_reg_model, 'Regresión Lineal')\n",
    "metrics_tree_by_substation = calculate_metrics_by_substation(df, tree_model, 'Árbol de Decisión')\n",
    "metrics_rnn_by_substation = calculate_metrics_by_substation(df, rnn_model, 'RNN')\n",
    "\n",
    "# Mostrar métricas por subestación\n",
    "print(\"\\nMétricas por subestación y modelo:\")\n",
    "print(\"Regresión Lineal:\")\n",
    "print(metrics_linear_by_substation)\n",
    "print(\"\\nÁrbol de Decisión:\")\n",
    "print(metrics_tree_by_substation)\n",
    "print(\"\\nRNN:\")\n",
    "print(metrics_rnn_by_substation)"
   ]
  },
  {
   "cell_type": "code",
   "execution_count": 20,
   "id": "6bff12d9",
   "metadata": {},
   "outputs": [],
   "source": [
    "from sklearn.metrics import r2_score"
   ]
  },
  {
   "cell_type": "code",
   "execution_count": 21,
   "id": "fcaf3a47",
   "metadata": {},
   "outputs": [
    {
     "name": "stdout",
     "output_type": "stream",
     "text": [
      "Resultados del entrenamiento:\n",
      "              Modelo        MAE          MSE        R2\n",
      "0   Regresión Lineal  55.862879  5428.716912  0.004075\n",
      "1  Árbol de Decisión  57.127830  5693.239360 -0.044453\n",
      "2                RNN  55.931887  5422.087197  0.005291\n"
     ]
    }
   ],
   "source": [
    "# Calcular R2 para cada modelo\n",
    "r2_linear = r2_score(y_test, y_pred_linear)\n",
    "r2_tree = r2_score(y_test, y_pred_tree)\n",
    "r2_rnn = r2_score(y_test, y_pred_rnn)\n",
    "\n",
    "# Agregar R2 al DataFrame\n",
    "results_df['R2'] = [r2_linear, r2_tree, r2_rnn]\n",
    "\n",
    "# Mostrar resultados actualizados\n",
    "print(\"Resultados del entrenamiento:\")\n",
    "print(results_df)"
   ]
  },
  {
   "cell_type": "code",
   "execution_count": 22,
   "id": "c4837ef3",
   "metadata": {},
   "outputs": [
    {
     "data": {
      "image/png": "[encoded data removed]",
      "text/plain": [
       "<Figure size 640x480 with 1 Axes>"
      ]
     },
     "metadata": {},
     "output_type": "display_data"
    }
   ],
   "source": [
    "import matplotlib.pyplot as plt\n",
    "\n",
    "# Obtener loss de entrenamiento por epoch de la historia del entrenamiento de la RNN\n",
    "train_loss = history.history['loss']\n",
    "epochs = range(1, len(train_loss) + 1)\n",
    "\n",
    "# Graficar train loss vs epochs\n",
    "plt.plot(epochs, train_loss, label='Train Loss')\n",
    "plt.title('Train Loss vs Epochs')\n",
    "plt.xlabel('Epochs')\n",
    "plt.ylabel('Train Loss')\n",
    "plt.legend()\n",
    "plt.show()\n"
   ]
  },
  {
   "cell_type": "code",
   "execution_count": 23,
   "id": "dc2d2d11",
   "metadata": {},
   "outputs": [
    {
     "name": "stderr",
     "output_type": "stream",
     "text": [
      "C:\\Users\\diego\\anaconda3\\lib\\site-packages\\keras\\src\\layers\\core\\dense.py:87: UserWarning: Do not pass an `input_shape`/`input_dim` argument to a layer. When using Sequential models, prefer using an `Input(shape)` object as the first layer in the model instead.\n",
      "  super().__init__(activity_regularizer=activity_regularizer, **kwargs)\n"
     ]
    },
    {
     "name": "stdout",
     "output_type": "stream",
     "text": [
      "\u001b[1m1438/1438\u001b[0m \u001b[32m━━━━━━━━━━━━━━━━━━━━\u001b[0m\u001b[37m\u001b[0m \u001b[1m1s\u001b[0m 555us/step\n"
     ]
    },
    {
     "name": "stderr",
     "output_type": "stream",
     "text": [
      "C:\\Users\\diego\\anaconda3\\lib\\site-packages\\keras\\src\\layers\\core\\dense.py:87: UserWarning: Do not pass an `input_shape`/`input_dim` argument to a layer. When using Sequential models, prefer using an `Input(shape)` object as the first layer in the model instead.\n",
      "  super().__init__(activity_regularizer=activity_regularizer, **kwargs)\n"
     ]
    },
    {
     "name": "stdout",
     "output_type": "stream",
     "text": [
      "\u001b[1m1798/1798\u001b[0m \u001b[32m━━━━━━━━━━━━━━━━━━━━\u001b[0m\u001b[37m\u001b[0m \u001b[1m1s\u001b[0m 529us/step\n"
     ]
    },
    {
     "name": "stderr",
     "output_type": "stream",
     "text": [
      "C:\\Users\\diego\\anaconda3\\lib\\site-packages\\keras\\src\\layers\\core\\dense.py:87: UserWarning: Do not pass an `input_shape`/`input_dim` argument to a layer. When using Sequential models, prefer using an `Input(shape)` object as the first layer in the model instead.\n",
      "  super().__init__(activity_regularizer=activity_regularizer, **kwargs)\n"
     ]
    },
    {
     "name": "stdout",
     "output_type": "stream",
     "text": [
      "\u001b[1m1438/1438\u001b[0m \u001b[32m━━━━━━━━━━━━━━━━━━━━\u001b[0m\u001b[37m\u001b[0m \u001b[1m1s\u001b[0m 524us/step\n"
     ]
    },
    {
     "name": "stderr",
     "output_type": "stream",
     "text": [
      "C:\\Users\\diego\\anaconda3\\lib\\site-packages\\keras\\src\\layers\\core\\dense.py:87: UserWarning: Do not pass an `input_shape`/`input_dim` argument to a layer. When using Sequential models, prefer using an `Input(shape)` object as the first layer in the model instead.\n",
      "  super().__init__(activity_regularizer=activity_regularizer, **kwargs)\n"
     ]
    },
    {
     "name": "stdout",
     "output_type": "stream",
     "text": [
      "\u001b[1m1798/1798\u001b[0m \u001b[32m━━━━━━━━━━━━━━━━━━━━\u001b[0m\u001b[37m\u001b[0m \u001b[1m1s\u001b[0m 541us/step\n"
     ]
    },
    {
     "name": "stderr",
     "output_type": "stream",
     "text": [
      "C:\\Users\\diego\\anaconda3\\lib\\site-packages\\keras\\src\\layers\\core\\dense.py:87: UserWarning: Do not pass an `input_shape`/`input_dim` argument to a layer. When using Sequential models, prefer using an `Input(shape)` object as the first layer in the model instead.\n",
      "  super().__init__(activity_regularizer=activity_regularizer, **kwargs)\n"
     ]
    },
    {
     "name": "stdout",
     "output_type": "stream",
     "text": [
      "\u001b[1m1438/1438\u001b[0m \u001b[32m━━━━━━━━━━━━━━━━━━━━\u001b[0m\u001b[37m\u001b[0m \u001b[1m1s\u001b[0m 549us/step\n"
     ]
    },
    {
     "name": "stderr",
     "output_type": "stream",
     "text": [
      "C:\\Users\\diego\\anaconda3\\lib\\site-packages\\keras\\src\\layers\\core\\dense.py:87: UserWarning: Do not pass an `input_shape`/`input_dim` argument to a layer. When using Sequential models, prefer using an `Input(shape)` object as the first layer in the model instead.\n",
      "  super().__init__(activity_regularizer=activity_regularizer, **kwargs)\n"
     ]
    },
    {
     "name": "stdout",
     "output_type": "stream",
     "text": [
      "\u001b[1m3236/3236\u001b[0m \u001b[32m━━━━━━━━━━━━━━━━━━━━\u001b[0m\u001b[37m\u001b[0m \u001b[1m2s\u001b[0m 544us/step\n"
     ]
    },
    {
     "name": "stderr",
     "output_type": "stream",
     "text": [
      "C:\\Users\\diego\\anaconda3\\lib\\site-packages\\keras\\src\\layers\\core\\dense.py:87: UserWarning: Do not pass an `input_shape`/`input_dim` argument to a layer. When using Sequential models, prefer using an `Input(shape)` object as the first layer in the model instead.\n",
      "  super().__init__(activity_regularizer=activity_regularizer, **kwargs)\n"
     ]
    },
    {
     "name": "stdout",
     "output_type": "stream",
     "text": [
      "\u001b[1m2876/2876\u001b[0m \u001b[32m━━━━━━━━━━━━━━━━━━━━\u001b[0m\u001b[37m\u001b[0m \u001b[1m2s\u001b[0m 517us/step\n",
      "Resultados del entrenamiento por subestación:\n",
      "   sub_estacion             modelo         MAE           MSE        R2\n",
      "0       AJAHUEL   Regresión Lineal   54.052643   3305.618819  0.017179\n",
      "1          BUIN   Regresión Lineal   67.487480   9180.750295 -0.000024\n",
      "2       LOSALME   Regresión Lineal   24.170630    925.896290  0.056233\n",
      "3         CHENA   Regresión Lineal   92.963627  14893.724664  0.001564\n",
      "4       ELSALTO   Regresión Lineal   29.296146   1471.812059  0.153730\n",
      "5        CNAVIA   Regresión Lineal   46.294804   3359.086331  0.009799\n",
      "6       FLORIDA   Regresión Lineal   25.114971    991.566139  0.000068\n",
      "7       AJAHUEL  Árbol de Decisión   70.478882   5973.190724 -0.775939\n",
      "8          BUIN  Árbol de Decisión   92.347146  15146.840579 -0.649888\n",
      "9       LOSALME  Árbol de Decisión   31.034734   1556.126639 -0.586162\n",
      "10        CHENA  Árbol de Decisión  119.564391  24350.168620 -0.632371\n",
      "11      ELSALTO  Árbol de Decisión   27.894703   1403.757111  0.192861\n",
      "12       CNAVIA  Árbol de Decisión   51.493703   4183.600008 -0.233253\n",
      "13      FLORIDA  Árbol de Decisión   29.231700   1322.991616 -0.334154\n",
      "14      AJAHUEL                RNN   53.966396   3299.037671  0.019136\n",
      "15         BUIN                RNN   67.460627   9180.556135 -0.000003\n",
      "16      LOSALME                RNN   23.910860    903.343035  0.079221\n",
      "17        CHENA                RNN   93.360248  14878.101440  0.002611\n",
      "18      ELSALTO                RNN   26.173888   1209.332405  0.304652\n",
      "19       CNAVIA                RNN   45.807064   3343.342098  0.014440\n",
      "20      FLORIDA                RNN   25.104573    991.635833 -0.000003\n"
     ]
    }
   ],
   "source": [
    "def calculate_metrics_by_substation(df, model, model_name):\n",
    "    metrics_by_substation = []\n",
    "    for substation in df['sub_estacion'].unique():\n",
    "        sub_df = df[df['sub_estacion'] == substation]\n",
    "        X_sub = sub_df[['año', 'mes', 'dia', 'hora']]\n",
    "        y_sub = sub_df['consumo']\n",
    "        X_sub_train, X_sub_test, y_sub_train, y_sub_test = train_test_split(X_sub, y_sub, test_size=0.2, random_state=42)\n",
    "        \n",
    "        if model_name == 'RNN':\n",
    "            # Construir modelo RNN\n",
    "            rnn_model = Sequential([\n",
    "                Dense(64, activation='relu', input_shape=(X_sub_train.shape[1],)),\n",
    "                Dense(64, activation='relu'),\n",
    "                Dense(1)\n",
    "            ])\n",
    "\n",
    "            # Compilar el modelo\n",
    "            rnn_model.compile(optimizer='adam', loss='mse')\n",
    "\n",
    "            # Entrenar el modelo con 50 epochs\n",
    "            history = rnn_model.fit(X_sub_train, y_sub_train, epochs=50, validation_data=(X_sub_test, y_sub_test), verbose=0)\n",
    "            y_sub_pred = rnn_model.predict(X_sub_test)\n",
    "        else:\n",
    "            model.fit(X_sub_train, y_sub_train)\n",
    "            y_sub_pred = model.predict(X_sub_test)\n",
    "        \n",
    "        mae_sub = mean_absolute_error(y_sub_test, y_sub_pred)\n",
    "        mse_sub = mean_squared_error(y_sub_test, y_sub_pred)\n",
    "        r2_sub = r2_score(y_sub_test, y_sub_pred)\n",
    "        metrics_by_substation.append({'sub_estacion': substation, 'modelo': model_name, 'MAE': mae_sub, 'MSE': mse_sub, 'R2': r2_sub})\n",
    "    \n",
    "    return pd.DataFrame(metrics_by_substation)\n",
    "\n",
    "# Calcular métricas por subestación y modelo para cada modelo\n",
    "metrics_linear_by_substation = calculate_metrics_by_substation(df, linear_reg_model, 'Regresión Lineal')\n",
    "metrics_tree_by_substation = calculate_metrics_by_substation(df, tree_model, 'Árbol de Decisión')\n",
    "metrics_rnn_by_substation = calculate_metrics_by_substation(df, rnn_model, 'RNN')\n",
    "\n",
    "# Concatenar DataFrames de métricas por subestación y modelo\n",
    "all_metrics_by_substation = pd.concat([metrics_linear_by_substation, metrics_tree_by_substation, metrics_rnn_by_substation], ignore_index=True)\n",
    "\n",
    "# Mostrar DataFrame\n",
    "print(\"Resultados del entrenamiento por subestación:\")\n",
    "print(all_metrics_by_substation)\n"
   ]
  },
  {
   "cell_type": "code",
   "execution_count": 24,
   "id": "91cd831f",
   "metadata": {},
   "outputs": [
    {
     "name": "stdout",
     "output_type": "stream",
     "text": [
      "Resultados del entrenamiento por subestación (ordenado):\n",
      "   sub_estacion             modelo         MAE           MSE        R2\n",
      "14      AJAHUEL                RNN   53.966396   3299.037671  0.019136\n",
      "0       AJAHUEL   Regresión Lineal   54.052643   3305.618819  0.017179\n",
      "7       AJAHUEL  Árbol de Decisión   70.478882   5973.190724 -0.775939\n",
      "15         BUIN                RNN   67.460627   9180.556135 -0.000003\n",
      "1          BUIN   Regresión Lineal   67.487480   9180.750295 -0.000024\n",
      "8          BUIN  Árbol de Decisión   92.347146  15146.840579 -0.649888\n",
      "17        CHENA                RNN   93.360248  14878.101440  0.002611\n",
      "3         CHENA   Regresión Lineal   92.963627  14893.724664  0.001564\n",
      "10        CHENA  Árbol de Decisión  119.564391  24350.168620 -0.632371\n",
      "19       CNAVIA                RNN   45.807064   3343.342098  0.014440\n",
      "5        CNAVIA   Regresión Lineal   46.294804   3359.086331  0.009799\n",
      "12       CNAVIA  Árbol de Decisión   51.493703   4183.600008 -0.233253\n",
      "18      ELSALTO                RNN   26.173888   1209.332405  0.304652\n",
      "4       ELSALTO   Regresión Lineal   29.296146   1471.812059  0.153730\n",
      "11      ELSALTO  Árbol de Decisión   27.894703   1403.757111  0.192861\n",
      "20      FLORIDA                RNN   25.104573    991.635833 -0.000003\n",
      "6       FLORIDA   Regresión Lineal   25.114971    991.566139  0.000068\n",
      "13      FLORIDA  Árbol de Decisión   29.231700   1322.991616 -0.334154\n",
      "16      LOSALME                RNN   23.910860    903.343035  0.079221\n",
      "2       LOSALME   Regresión Lineal   24.170630    925.896290  0.056233\n",
      "9       LOSALME  Árbol de Decisión   31.034734   1556.126639 -0.586162\n"
     ]
    }
   ],
   "source": [
    "# Ordenar el DataFrame por sub_estacion y modelo\n",
    "all_metrics_by_substation_sorted = all_metrics_by_substation.sort_values(by=['sub_estacion', 'modelo'])\n",
    "\n",
    "# Mostrar DataFrame ordenado\n",
    "print(\"Resultados del entrenamiento por subestación (ordenado):\")\n",
    "print(all_metrics_by_substation_sorted)"
   ]
  },
  {
   "cell_type": "code",
   "execution_count": 25,
   "id": "b8b82b61",
   "metadata": {},
   "outputs": [
    {
     "name": "stdout",
     "output_type": "stream",
     "text": [
      "Coeficiente de correlación de Pearson (R): 0.0638938122149843\n",
      "Coeficiente de determinación ajustado (R^2): 0.004066221964548644\n"
     ]
    }
   ],
   "source": [
    "import numpy as np\n",
    "\n",
    "# Calcular el coeficiente de correlación de Pearson (R)\n",
    "pearson_corr = np.corrcoef(y_test, y_pred_linear)[0, 1]\n",
    "\n",
    "# Calcular el coeficiente de determinación ajustado (R^2)\n",
    "adjusted_r2 = 1 - (1 - r2_score(y_test, y_pred_linear)) * ((len(y_test) - 1) / (len(y_test) - X_test.shape[1] - 1))\n",
    "\n",
    "print(\"Coeficiente de correlación de Pearson (R):\", pearson_corr)\n",
    "print(\"Coeficiente de determinación ajustado (R^2):\", adjusted_r2)"
   ]
  },
  {
   "cell_type": "code",
   "execution_count": 28,
   "id": "9b56a402",
   "metadata": {},
   "outputs": [
    {
     "data": {
      "image/png": "[encoded data removed]",
      "text/plain": [
       "<Figure size 800x600 with 1 Axes>"
      ]
     },
     "metadata": {},
     "output_type": "display_data"
    }
   ],
   "source": [
    "import matplotlib.pyplot as plt\n",
    "from matplotlib.patches import Ellipse\n",
    "\n",
    "# Crear figura y ejes\n",
    "fig, ax = plt.subplots(figsize=(8, 6))\n",
    "\n",
    "# Definir las coordenadas de los nodos\n",
    "nodes = {\n",
    "    'Entrada': (0, 3),\n",
    "    'Capa oculta 1\\n(Dense, 64 neuronas,\\nReLU)': (1, 5),\n",
    "    'Capa oculta 2\\n(Dense, 64 neuronas,\\nReLU)': (2.5, 5),\n",
    "    'Capa de salida\\n(Dense, 1 neurona)': (4, 3)\n",
    "}\n",
    "\n",
    "# Dibujar nodos\n",
    "for node, coord in nodes.items():\n",
    "    ax.text(coord[0], coord[1], node, ha='center', va='center', fontsize=10, bbox=dict(facecolor='white', alpha=0.8))\n",
    "    ax.add_patch(Ellipse(coord, width=0.4, height=0.4, edgecolor='black', lw=2, facecolor='none'))\n",
    "\n",
    "# Dibujar conexiones\n",
    "for i in range(1, len(nodes)):\n",
    "    ax.arrow(nodes[list(nodes.keys())[i-1]][0], nodes[list(nodes.keys())[i-1]][1], \n",
    "             nodes[list(nodes.keys())[i]][0]-nodes[list(nodes.keys())[i-1]][0], \n",
    "             nodes[list(nodes.keys())[i]][1]-nodes[list(nodes.keys())[i-1]][1], \n",
    "             head_width=0.1, head_length=0.1, fc='blue', ec='blue', length_includes_head=True)\n",
    "\n",
    "# Configuraciones adicionales\n",
    "ax.set_xlim(-0.5, 5)\n",
    "ax.set_ylim(2, 6)\n",
    "ax.set_aspect('equal')\n",
    "ax.axis('off')\n",
    "plt.title(\"Arquitectura del Modelo RNN\")\n",
    "plt.show()\n"
   ]
  },
  {
   "cell_type": "code",
   "execution_count": 29,
   "id": "196dabec",
   "metadata": {},
   "outputs": [],
   "source": [
    "# Cargar el dataframe\n",
    "df_test = pd.read_csv('test1.csv')"
   ]
  },
  {
   "cell_type": "code",
   "execution_count": 30,
   "id": "2b1cfdcb",
   "metadata": {},
   "outputs": [
    {
     "name": "stdout",
     "output_type": "stream",
     "text": [
      "      consumo  dia  mes   año  hora\n",
      "0  -51.381349    1    2  2019     0\n",
      "1 -171.906310    1    2  2019     0\n",
      "2   94.762790    1    2  2019     0\n",
      "3   47.114733    1    2  2019     0\n",
      "4   59.313975    1    2  2019     0\n"
     ]
    }
   ],
   "source": [
    "print(df_test.head())"
   ]
  },
  {
   "cell_type": "code",
   "execution_count": 31,
   "id": "655558b9",
   "metadata": {},
   "outputs": [
    {
     "name": "stdout",
     "output_type": "stream",
     "text": [
      "\u001b[1m70093/70093\u001b[0m \u001b[32m━━━━━━━━━━━━━━━━━━━━\u001b[0m\u001b[37m\u001b[0m \u001b[1m37s\u001b[0m 526us/step\n",
      "Predicción de consumo de energía para el conjunto de datos de prueba:\n",
      "[[-41.24182]\n",
      " [-41.24182]\n",
      " [-41.24182]\n",
      " ...\n",
      " [119.14755]\n",
      " [119.14755]\n",
      " [119.14755]]\n"
     ]
    }
   ],
   "source": [
    "# Seleccionar las columnas relevantes para las características de entrada\n",
    "X_new = df_test[['dia', 'mes', 'año', 'hora']]\n",
    "\n",
    "# Hacer predicciones usando el modelo RNN entrenado\n",
    "y_pred = rnn_model.predict(X_new)\n",
    "\n",
    "print(\"Predicción de consumo de energía para el conjunto de datos de prueba:\")\n",
    "print(y_pred)\n"
   ]
  },
  {
   "cell_type": "code",
   "execution_count": 38,
   "id": "55a27cc2",
   "metadata": {},
   "outputs": [
    {
     "data": {
      "image/png": "[encoded data removed]",
      "text/plain": [
       "<Figure size 800x310 with 2 Axes>"
      ]
     },
     "metadata": {},
     "output_type": "display_data"
    }
   ],
   "source": [
    "import shap\n",
    "from sklearn.model_selection import train_test_split\n",
    "\n",
    "# Dividir los datos en conjuntos de entrenamiento y prueba\n",
    "X_train, X_test, y_train, y_test = train_test_split(df[['año', 'mes', 'dia', 'hora']], df['consumo'], test_size=0.2, random_state=42)\n",
    "\n",
    "# Crear un explainer de SHAP con el modelo ya entrenado\n",
    "explainer = shap.Explainer(rnn_model, X_train)\n",
    "\n",
    "# Calcular los valores SHAP para una muestra aleatoria de los datos de prueba (por ejemplo, 100 instancias)\n",
    "shap_values = explainer(X_test.sample(100))\n",
    "\n",
    "# Resumen de los valores SHAP\n",
    "shap.summary_plot(shap_values, X_test.sample(100))\n"
   ]
  },
  {
   "cell_type": "code",
   "execution_count": null,
   "id": "298ca06c",
   "metadata": {},
   "outputs": [],
   "source": []
  }
 ],
 "metadata": {
  "kernelspec": {
   "display_name": "Python 3 (ipykernel)",
   "language": "python",
   "name": "python3"
  },
  "language_info": {
   "codemirror_mode": {
    "name": "ipython",
    "version": 3
   },
   "file_extension": ".py",
   "mimetype": "text/x-python",
   "name": "python",
   "nbconvert_exporter": "python",
   "pygments_lexer": "ipython3",
   "version": "3.10.9"
  }
 },
 "nbformat": 4,
 "nbformat_minor": 5
}
